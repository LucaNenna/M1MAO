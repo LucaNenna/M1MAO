{
 "cells": [
  {
   "cell_type": "markdown",
   "metadata": {},
   "source": [
    "# TP 1: Équation de Poisson en 1D"
   ]
  },
  {
   "cell_type": "markdown",
   "metadata": {},
   "source": [
    "On s'intéresse à la résolution numérique de l'équation de Poisson\n",
    "\n",
    "$$\n",
    "\\left\\{\\begin{aligned}\n",
    "&-u''(t) = f(t) \\hbox{ sur } ]0,1[\\\\\n",
    "&u(0) = u(1) = 0\n",
    "\\end{aligned}\\right.$$\n",
    "\n",
    "où $f: [0,1]\\to\\mathbb{R}$ est continue. Évidemment, dans ce cas la solution est triviale: $u$ est obtenue en primitivant $f$ deux fois et en fixant les constantes d'intégration de sorte à ce que $u(0)=u(1)=0$. Ce problème simple nous permettra surtout de faire quelques rappels de Python et d'analyse numérique. On considèrera deux méthodes différentes: la méthode de tir, qui passe par la résolution du problème de Cauchy pour l'équation correspondante, et la méthode des différences finies. \n",
    "\n",
    "### Quelques commentaires sur les Notebook Jupyter\n",
    "Ce texte est rédigé sous la forme d'un notebook. Un notebook comporte des cellules de texte et des cellules de code, ici en Python. Quelques raccourcis clavier et remarques utiles:\n",
    "\n",
    "- `CTRL+Entrée`: exécute la cellule de code, et affiche son résultat.\n",
    "- `Tab`: Si l'on `Tab` après avoir tapé les premières lettres d'un nom de fonction, le système propose une liste de possibilités (ce qui peut permettre d'éviter des erreurs de frappe)\n",
    "- `MAJ+Tab`: Affiche la documentation sur la fonction. Très utile pour ne pas se tromper sur l'ordre des paramètres. On peut voir une documentation plus complète en cliquant sur le '+'.\n",
    "- `CTRL+s`: Enregistrer les modifications apportées au Notebook.\n",
    "- Le symbole `[*]` à côté d'une cellule de code indique que le noyau Python est toujours en train de calculer. On peut l'interrompre via `Kernel -> Interrupt` ou le redémarrer via `Kernel -> Restart`. Le noyau Python repart alors de zéro, et il faut donc relancer les cellules antérieures à celle sur laquelle on travaillait.\n",
    "\n",
    "Une aide complète, ainsi que la documentation de Python et Numpy, est disponible dans le menu `Aide`.\n"
   ]
  },
  {
   "cell_type": "markdown",
   "metadata": {},
   "source": [
    "## 1. Méthode du tir\n",
    "L'idée de la méthode du tir est la suivante: étant donné $a\\in\\mathbb{R}$, on considère le problème de Cauchy \n",
    "\n",
    "$$\n",
    "\\left\\{\\begin{aligned}\n",
    "&-u_a''(t) = f(t) \\hbox{ sur } ]0,1[ \\\\\n",
    "&u_a(0) = 0, u_a'(0) = a\n",
    "\\end{aligned}\\right.,$$\n",
    "\n",
    "et on note $\\Phi(a) := u_a(1)$. Il s'agit alors de trouver $a\\in \\mathbb{R}$ tel que $\\Phi(a)=0$. Les deux ingrédients pour discrétiser ce problème sont les suivants: d'abord, une méthode de recherche de zéros d'une fonction $\\Phi:\\mathbb{R}\\to\\mathbb{R}$, et une méthode permettant d'évaluer la valeur de $\\Phi$ de manière approchée par discrétisation du problème de Cauchy. L'objectif de cette partie est de se familiariser avec le langage Python et avec l'environnement Python Notebook. Ne pas hésiter à utiliser help(fonction) pour obtenir de l'aide sur une fonction, comme dans l'exemple suivant"
   ]
  },
  {
   "cell_type": "code",
   "execution_count": 2,
   "metadata": {},
   "outputs": [
    {
     "name": "stdout",
     "output_type": "stream",
     "text": [
      "Help on built-in function sqrt in module math:\n",
      "\n",
      "sqrt(...)\n",
      "    sqrt(x)\n",
      "    \n",
      "    Return the square root of x.\n",
      "\n"
     ]
    }
   ],
   "source": [
    "import math\n",
    "help(math.sqrt) # affiche l'aide sur la fonction racine"
   ]
  },
  {
   "cell_type": "markdown",
   "metadata": {
    "collapsed": true
   },
   "source": [
    "### 1.1 Résolution de $\\Phi(a) = 0$\n",
    "\n",
    "On commence par importer la bibliothèque de calcul matriciel numpy et la bibliothèque de visualisation matplotlib, qui seront utiles dans tout les TP."
   ]
  },
  {
   "cell_type": "code",
   "execution_count": 5,
   "metadata": {},
   "outputs": [],
   "source": [
    "import numpy as np\n",
    "import matplotlib.pyplot as plt"
   ]
  },
  {
   "cell_type": "markdown",
   "metadata": {},
   "source": [
    "On testera notre fonction de recherche de zéros sur $\\Phi_0(x) = x^2 - 2$, ce qui revient à calculer $\\sqrt{2}$."
   ]
  },
  {
   "cell_type": "code",
   "execution_count": 7,
   "metadata": {
    "scrolled": true
   },
   "outputs": [],
   "source": [
    "def Phi0(x):                    # une fonction Python est définie par def F(x,y,z):\n",
    "    return x*x-2                # noter les espaces avant le mot-clé return: ceux-ci indiquent à l'interprète Python que \n",
    "                                # l'instruction return fait partie du code de la fonction\n",
    "\n",
    "print(Phi0(3))                  # on teste la fonction Phi0"
   ]
  },
  {
   "cell_type": "markdown",
   "metadata": {},
   "source": [
    "**Q1)** Compléter la définition de la fonction dichotomie(Phi, a, b, eps) cherchant un zéro de Phi entre a et b. On vérifiera au début que $a\\leq b$ et que $\\Phi(a)\\Phi(b) \\leq 0$. Cette fonction s'arrètera dès lors que $|a-b|\\leq$ eps et retournera alors $c:=(a+b)/2$. La fonction dichotomie pourra s'appeler elle-même. Tester la fonction dichotomie avec Phi0 (attention: il faut que a, b et eps soient des nombres flottants, p.ex. a=1., b=2. où le point indique que le nombre n'est pas entier). \n",
    "\n",
    "**Attention** Dans la fonction dichotomie on posera c = (a+b)/2.0, afin de signaler à Python qu'on doit prendre la division sur $\\mathbb{R}$  et pas la division Euclidienne sur $\\mathbb{Z}$!"
   ]
  },
  {
   "cell_type": "code",
   "execution_count": 4,
   "metadata": {},
   "outputs": [],
   "source": [
    "def dichotomie(Phi,a,b, eps=1e-8):           # on donne une valeur par défaut à eps\n",
    "    assert((a <= b) & (Phi(a)*Phi(b) <= 0))  # on vérifie la condition nécessaire à l'algorithme\n",
    "    c = (a+b)/2.\n",
    "    # compléter ... ne pas hésiter à utiliser print() pour comprendre les étapes intermédiaires"
   ]
  },
  {
   "cell_type": "markdown",
   "metadata": {},
   "source": [
    "### 1.2 Résolution du problème de Cauchy"
   ]
  },
  {
   "cell_type": "markdown",
   "metadata": {},
   "source": [
    "Pour vous guider dans la résolution du problème de Cauchy d'ordre $2$, on présente une fonction [t,y]=Euler(f,y_0,T,n) qui construit une solution approchée de l'EDO d'ordre un $y'(t) = G(t,y(t)), y(0) = y_0$ sur $[0,T]$ par une méthode d'Euler explicite, c'est-à-dire avec $h = T/N$,\n",
    "\n",
    "$$\n",
    "t_0 = 0, y_0\\in \\mathbb{R} \n",
    "\\hbox{ et pour } 0\\leq i\\leq n-1, \\left\\{\\begin{aligned}\n",
    "&t_{i+1} = t_i + h \\\\\n",
    "&y_{i+1} = y_i + h f(t_i,y_i) \n",
    "\\end{aligned}\\right.$$\n",
    "\n",
    "Cette fonction retourne une liste $t = [t_0,\\dots,t_n]$ et $y = [y_0,\\dots,y_n]$.\n"
   ]
  },
  {
   "cell_type": "code",
   "execution_count": 6,
   "metadata": {},
   "outputs": [],
   "source": [
    "def euler1D(G, y0, T, n):\n",
    "    h = T / float(n)\n",
    "    y = np.zeros(n+1)                     # on créé deux tableaux de zéros pour stocker les pas de temps\n",
    "    t = np.zeros(n+1)                     # et les valeurs de y\n",
    "    y[0] = y0\n",
    "    t[0] = 0\n",
    "    for i in range(n):\n",
    "        y[i+1] = y[i] + h*G(t[i], y[i])\n",
    "        t[i+1] = t[i] + h\n",
    "    return t,y"
   ]
  },
  {
   "cell_type": "markdown",
   "metadata": {},
   "source": [
    "On teste ensuite cette fonction sur l'EDO $y'=y$:"
   ]
  },
  {
   "cell_type": "code",
   "execution_count": 7,
   "metadata": {
    "scrolled": true
   },
   "outputs": [
    {
     "name": "stdout",
     "output_type": "stream",
     "text": [
      "|y - ysol|_infty=0.013468\n"
     ]
    },
    {
     "data": {
      "image/png": "[encoded data removed]",
      "text/plain": [
       "<Figure size 432x288 with 1 Axes>"
      ]
     },
     "metadata": {
      "needs_background": "light"
     },
     "output_type": "display_data"
    }
   ],
   "source": [
    "def G(t,y):\n",
    "    return y\n",
    "[t,y] = euler1D(G, y0=1, T=1, n=100)\n",
    "print (\"|y - ysol|_infty=%g\" % np.max(np.abs(y-np.exp(t))))\n",
    "plt.plot(t,y,'b') \n",
    "plt.plot(t,np.exp(t),'r')\n",
    "plt.show()"
   ]
  },
  {
   "cell_type": "markdown",
   "metadata": {},
   "source": [
    "**Q2)** Transformer le problème de Cauchy pour l'EDO d'ordre deux \n",
    "\n",
    "$$\n",
    "\\left\\{\\begin{aligned}\n",
    "&-u_a''(t) = f(t) \\hbox{ sur } [0,1] \\\\\n",
    "&u_a(0) = 0, u_a'(0) = a\n",
    "\\end{aligned}\\right.,$$\n",
    "\n",
    "en un problème de Cauchy pour un système d'EDO d'ordre un, en les variables $(p(t),q(t)) = (u, u'(t)) \\in \\mathbb{R}^2$. En adaptant euler1D, écrire une fonction euler_ordre2(f, u0, uprime0, T, n) retournant deux tableaux de nombres, la liste des pas de temps $t_i = (Ti)/N$ pour $i\\in 0,\\dots,N$ et la liste des valeurs estimées $u_0,\\dots,u_{n}$."
   ]
  },
  {
   "cell_type": "code",
   "execution_count": 10,
   "metadata": {
    "collapsed": true
   },
   "outputs": [],
   "source": [
    "def euler_ordre2(f, u0, uprime0, T, n):\n",
    "    h = T / float(n)\n",
    "    # compléter"
   ]
  },
  {
   "cell_type": "markdown",
   "metadata": {},
   "source": [
    "On testera cette fonction avec le second membre suivant, en visualisant la solution pour $u_0 = 1, u'_0 = -.5$, $T=1$ et $n=50$:"
   ]
  },
  {
   "cell_type": "code",
   "execution_count": 1,
   "metadata": {},
   "outputs": [],
   "source": [
    "def f(t):\n",
    "    sigma = .05\n",
    "    return (1.0/(sigma*np.sqrt(2*np.pi)))*np.exp(-np.power((t-0.2)/sigma,2.0))"
   ]
  },
  {
   "cell_type": "code",
   "execution_count": 21,
   "metadata": {},
   "outputs": [],
   "source": [
    "[t,x] = euler_ordre2(f,0,-.5,1,50)\n",
    "plt.plot(t,x); plt.show()"
   ]
  },
  {
   "cell_type": "markdown",
   "metadata": {},
   "source": [
    "**Q3)** Utiliser la fonction euler_ordre2 pour écrire une fonction Phi(a) calculant la valeur approchée de la solution du problème de Cauchy en $T=1$, i.e. $u_a(1)$ (on continuera à utiliser la fonction $f$ défini ci-dessus, et on prendra $n=50$). "
   ]
  },
  {
   "cell_type": "code",
   "execution_count": 13,
   "metadata": {},
   "outputs": [],
   "source": [
    "def Phi(a):\n",
    "    # compléter"
   ]
  },
  {
   "cell_type": "markdown",
   "metadata": {},
   "source": [
    "**Q4)** Tracer une solution approchée pour le problème original en combinant les fonctions Phi et dichotomie."
   ]
  },
  {
   "cell_type": "code",
   "execution_count": 3,
   "metadata": {},
   "outputs": [],
   "source": [
    "# compléter"
   ]
  },
  {
   "cell_type": "markdown",
   "metadata": {},
   "source": [
    "## 2. Méthode des différences finies\n",
    "\n",
    "On considère maintenant une deuxième méthode de résolution du problème, dont l'analyse a été présentée en cours. On approche l'EDO avec conditions de bord : \n",
    "\n",
    "$$\n",
    "\\left\\{\\begin{aligned}\n",
    "&-u''(t) = f(t) \\hbox{ sur } ]0,1[ \\\\\n",
    "&u(0) = u(1) = 0\n",
    "\\end{aligned}\\right.$$\n",
    "\n",
    "Par le système linéaire de dimension finie \n",
    "\n",
    "$$\n",
    "\\left\\{\\begin{aligned}\n",
    "&u_{0} = 0, u_{N+1} = 0 \\\\\n",
    "&-\\frac{1}{h^2}(u_{i-1} - 2 u_i + u_{i+1}) = f_i \\hbox{ pour } 1\\leq i\\leq n\n",
    "\\end{aligned}\\right.,$$\n",
    "\n",
    "où $h = \\dfrac{1}{N+1}$ et $t_i = h i$ pour $0\\leq i\\leq N+1$ et $f_i = f(t_i)$."
   ]
  },
  {
   "cell_type": "markdown",
   "metadata": {},
   "source": [
    "**Q5)** On pose $\\bf U = (u_1,\\dots, u_N)$ et $\\bf F = (f_1,\\dots,f_N)$. Écrire le système linéaire sous la forme $A_h \\bf U = \\bf F$, où $A_h$ est une matrice symétrique. Écrire une fonction $A(N)$ calculant cette matrice. \n",
    "\n",
    "(Créer une matrice vide à l'aide de A=np.zero((N,N)) et la remplir en faisant des boucles. Pour accéder à l'élément (i,j) de A, on écrit A[i,j].)"
   ]
  },
  {
   "cell_type": "code",
   "execution_count": 2,
   "metadata": {},
   "outputs": [],
   "source": [
    "# compléter"
   ]
  },
  {
   "cell_type": "markdown",
   "metadata": {},
   "source": [
    "**Q6)** On prend comme précédemment $N=50$. Construire le vecteur $s = [t_1,\\dots,t_{n}]$, puis $\\bf F = F(s)$ (i.e. $F_i = F(s_i)$). Résoudre le système linéaire en utilisant la fonction  `np.linalg.solve(A,F)`, qui retourne une solution du système linéaire $A\\bf U = \\bf F$. Afficher le résultat."
   ]
  },
  {
   "cell_type": "code",
   "execution_count": 8,
   "metadata": {},
   "outputs": [],
   "source": [
    "# compléter"
   ]
  },
  {
   "cell_type": "markdown",
   "metadata": {},
   "source": [
    "**Q7)** Montrer que la matrice $A_h$ est symétrique définie positive (une possibilité de partir de l'écriture $A_h = M^T M$ où $M$ est une matrice ayant $(n+2)$ lignes et $n$ colonnes à définir)."
   ]
  },
  {
   "cell_type": "code",
   "execution_count": null,
   "metadata": {},
   "outputs": [],
   "source": []
  }
 ],
 "metadata": {
  "kernelspec": {
   "display_name": "Python 3",
   "language": "python",
   "name": "python3"
  },
  "language_info": {
   "codemirror_mode": {
    "name": "ipython",
    "version": 3
   },
   "file_extension": ".py",
   "mimetype": "text/x-python",
   "name": "python",
   "nbconvert_exporter": "python",
   "pygments_lexer": "ipython3",
   "version": "3.7.0"
  }
 },
 "nbformat": 4,
 "nbformat_minor": 1
}
