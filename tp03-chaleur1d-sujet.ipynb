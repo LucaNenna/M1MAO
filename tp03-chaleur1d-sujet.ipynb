{
 "cells": [
  {
   "cell_type": "markdown",
   "metadata": {},
   "source": [
    "# TP 3: Équation de la chaleur en 1D"
   ]
  },
  {
   "cell_type": "markdown",
   "metadata": {},
   "source": [
    "$$\\newcommand{\\Rsp}{\\mathbb{R}}\n",
    "\\newcommand{\\nr}[1]{\\left\\Vert#1\\right\\Vert}\n",
    "\\newcommand{\\eps}{\\varepsilon}$$\n",
    "On s'intéresse à la résolution numérique de l'équation de la chaleur sur $[0,T]\\times [0,1]$ avec une conductivité thermique $a\\in \\mathcal{C}^1([0,1]), a > 0$, et une source de chaleur continue, $f \\in \\mathcal{C}^0([0,1])$. On considèrera l'équation avec conditions de Dirichlet:\n",
    "\n",
    "$$\n",
    "(DD)\\quad \\left\\{\\begin{aligned}\n",
    "&\\frac{\\partial u}{\\partial t}(t,x) = \\frac{\\partial}{\\partial x}\\left(a(x) \\frac{\\partial u}{\\partial x}(t,x)\\right) + f(x)  \\hbox{ sur } ]0,1[\\times ]0,T]\\\\\n",
    "&u(t,0) = u(t,1) = 0 \\hbox{ pour } t\\in [0,T]\\\\\n",
    "&u(0,\\cdot) = u_0\n",
    "\\end{aligned}\\right. \n",
    "$$\n",
    "\n",
    "On commence par importer les modules et définir les fonctions $f$,$a$ et $u_0$:"
   ]
  },
  {
   "cell_type": "code",
   "execution_count": 1,
   "metadata": {},
   "outputs": [],
   "source": [
    "import numpy as np\n",
    "%matplotlib inline\n",
    "import matplotlib.pyplot as plt\n",
    "\n",
    "def f(x):\n",
    "    fx = np.zeros(len(x))\n",
    "    fx[np.logical_and(x>.8,x<.9)] = 1.\n",
    "    return fx\n",
    "def u0(x):\n",
    "    fx = np.zeros(len(x))\n",
    "    fx[x < .2] = 1.\n",
    "    return fx"
   ]
  },
  {
   "cell_type": "markdown",
   "metadata": {},
   "source": [
    "\n",
    "## 1. Conductivité constante: comparaison des schémas implicites et explicites\n",
    "Dans cette partie, on s'intéresse au cas plus simple où la conductivité est constante, $a \\equiv 1$.  On considère $x = (x_0,\\dots,x_{M+1})$ une grille uniforme dans $[0,1]$ de pas $h=1/(M+1)$ et $t = (t_0,\\dots,t_N)$ une grille uniforme dans $[0,T]$ de pas $\\tau = 1/N$. On note également $u_{j}^n \\simeq u(x_j,t_n)$ l'approximation discrète de la solution du système. Les schémas explicites et implicites pour l'équation de la chaleur avec conditions de Dirichlet s'écrivent:\n",
    "\n",
    "$$\n",
    "(DD,\\mathrm{expl}) \\quad \\left\\{\\begin{aligned}\n",
    "& \\frac{1}{\\tau} (u_{j}^{n+1} - u_j^n) = \\frac{1}{h^2} (u_{j-1}^n - 2 u_j^{n} + u_{j+1}^n) + f_j &\\hbox{ pour } 1\\leq j \\leq M, 0\\leq n \\leq N-1\\\\\n",
    "& u_0^n = u_{M+1}^n = 0 &\\hbox{ pour } 0\\leq n\\leq N \\\\\n",
    "& u_j^0 = u_0(x_j) &\\hbox{ pour } 1\\leq j\\leq M+1\n",
    "\\end{aligned}\\right. \n",
    "$$\n",
    "\n",
    "$$\n",
    "(DD,\\mathrm{impl}) \\quad \\left\\{\\begin{aligned}\n",
    "& \\frac{1}{\\tau} (u_{j}^{n+1} - u_j^n) = \\frac{1}{h^2} (u_{j-1}^{n+1} - 2 u_j^{n+1} + u_{j+1}^{n+1}) + f_j &\\hbox{ pour } 1\\leq j \\leq M, 0\\leq n \\leq N-1\\\\\n",
    "& u_0^n = u_{M+1}^n = 0 &\\hbox{ pour } 0\\leq n\\leq N \\\\\n",
    "& u_j^0 = u_0(x_j) &\\hbox{ pour } 1\\leq j\\leq M+1\n",
    "\\end{aligned}\\right. \n",
    "$$\n"
   ]
  },
  {
   "cell_type": "markdown",
   "metadata": {},
   "source": [
    "**Q1)** En notant $U^n = (u_1^n,\\dots,u^n_M)$ et $F = (f_1^n,\\dots,u^n_M)$, montrer que les deux schémas peuvent être mis sous forme matricielle:\n",
    "\n",
    "$$\\begin{aligned}\n",
    "&U^{n+1} = \\left(\\mathrm{Id}_M + \\frac{\\tau}{h^2} L_{D} \\right) U^n + \\tau F  &\\hbox{ pour  } (DD,\\mathrm{expl})\\\\ \n",
    "%& \\tilde{u}^{n+1} = \\left(\\mathrm{Id}_M + \\frac{\\tau}{h^2} L_{N} \\right) \\tilde{u}^n + \\tau \\tilde{f}&\\hbox{ pour  }\n",
    "%(DN,\\mathrm{expl})\\\\ \n",
    "& U^{n+1} = \\left(\\mathrm{Id}_M - \\frac{\\tau}{h^2} L_{D} \\right)^{-1} (U^n + \\tau F) &\\hbox{ pour  }\n",
    "(DD,\\mathrm{impl})\\\\ \n",
    "%& \\tilde{u}^{n+1} = \\left(\\mathrm{Id}_M - \\frac{\\tau}{h^2} L_{N} \\right)^{-1} (\\tilde{u}^n + \\tau \\tilde{f}) &\\hbox{ pour  } (DN,\\mathrm{impl})\n",
    "\\end{aligned}$$\n",
    "\n",
    "où la matrice $L_{D}$ est à déterminer.\n",
    "\n",
    "**Q2)** Écrire une fonctions $LD(M)$ calculant la matrice $L_D$. (on pourra s'aider de la fonction np.diag, qui construit une matrice diagonale, sur-diagonale ou sous-diagonale à partir d'un vecteur, et/ou np.eye, qui construit la matrice identité).\n"
   ]
  },
  {
   "cell_type": "code",
   "execution_count": 2,
   "metadata": {},
   "outputs": [],
   "source": [
    "# compléter"
   ]
  },
  {
   "cell_type": "markdown",
   "metadata": {},
   "source": [
    "**Q3)** Tracer sur une même figures les itérées pour $(DD,\\mathrm{expl})$ pour $M=49$ et $N=500$ et $T=0.1$. Recommencer avec $N=498$. Calculer les valeurs propres de $\\mathrm{Id}_M + \\frac{\\tau}{h^2} L_D$ (via la fonction *np.linalg.eigvals*), et interpréter l'explosion constatée numériquement.\n",
    "\n",
    "**Rappel: ** le produit matrice vecteur s'effectue via la fonction *np.dot(A,x)*"
   ]
  },
  {
   "cell_type": "code",
   "execution_count": 3,
   "metadata": {},
   "outputs": [],
   "source": [
    "M = 49\n",
    "N = 500\n",
    "T = .1\n",
    "h = 1.0/(M+1)\n",
    "tau = T/N\n",
    "#compléter\n"
   ]
  },
  {
   "cell_type": "markdown",
   "metadata": {},
   "source": [
    "**Q4)** Réaliser les mêmes calculs via la méthode implicite toujours pour les conditions de Dirichlet, en prenant $M=49$,  $N=50$, et $T=0.1$. "
   ]
  },
  {
   "cell_type": "code",
   "execution_count": 4,
   "metadata": {},
   "outputs": [],
   "source": [
    "M = 49\n",
    "N = 50\n",
    "T = 0.1\n",
    "h = 1.0/(M+1)\n",
    "tau = T/N\n",
    "\n",
    "#compléter"
   ]
  },
  {
   "cell_type": "markdown",
   "metadata": {},
   "source": [
    "Dans les question 5 à 8, on montre la convergence du schéma implicite.\n",
    "\n",
    "**Q5)** Démontrer que sous la condition $\\frac{\\tau}{h^2} \\leq \\frac{1}{2}$, si $V = (\\mathrm{Id}_M + \\frac{\\tau}{h^2} L_D) U$, alors \n",
    "\n",
    "$$\\min_{1\\leq j \\leq M} U_j \\leq \\min_{1\\leq j \\leq M} V_j \\hbox{ et } \\max_{1\\leq j \\leq M} V_j \\leq \\max_{1\\leq j \\leq M} U_j,$$\n",
    "\n",
    "*(Indication: montrer que sous la condition mentionnée, $V_j$ est combinaison convexe des coefficients de $U$)*\n",
    "\n",
    "**Q6)** On note maintenant\n",
    "$\\Phi^{\\mathrm{exp}}: U\\in \\Rsp^M \\mapsto \\left(\\mathrm{Id}_M + \\frac{\\tau}{h^2}L_D\\right) U + \\tau F $. Déduire de la question précédente que \n",
    "\n",
    "$$ \\nr{\\Phi^{\\mathrm{exp}}(U) - \\Phi^{\\mathrm{\\exp}}(V)}_\\infty \\leq \\nr{U - V}_\\infty$$\n",
    "\n",
    "(Le schéma $(DD,\\mathrm{exp})$ est donc stable en norme infinie sous la condition $\\frac{\\tau}{h^2} \\leq \\frac{1}{2}$.)\n",
    "\n",
    "**Q7)** Soit $\\bar{U}^n = (u(t_n,x_1), \\dots, u(t_n,x_M)) \\in \\Rsp^M$ où $u \\in \\mathcal{C}^4([0,T]\\times [0,1])$ est solution de (DD). Démontrer que\n",
    "\n",
    "$$ \\nr{\\frac{\\bar{U}^{n+1} - \\Phi^{\\mathrm{exp}}(\\bar{U}^n)}{\\tau}}_\\infty \\leq C(\\tau + h^2) $$\n",
    "\n",
    "**Q8)** Soit $U^0 = \\bar{U}^0$ et $U^{n+1} = \\Phi^{\\mathrm{exp}}(U^n)$. On pose $\\eps_n := \\nr{U^n - \\bar{U}^n}_\\infty$. Démontrer que $\\eps_n$ vérifie l'inégalité\n",
    "\n",
    "$$ \\eps_{n+1} \\leq C\\tau(\\tau + h^2) + \\eps_n. $$\n",
    "\n",
    "En déduire que $\\eps_n \\leq CT (\\tau +h^2)$ pour $0\\leq n\\leq N$."
   ]
  },
  {
   "cell_type": "markdown",
   "metadata": {},
   "source": [
    "**Q9**) Démontrer que si $ (\\mathrm{Id}_M - \\frac{\\tau}{h^2} L_D) V = U$, alors \n",
    "\n",
    "$$\\min_{1\\leq j \\leq M} U_j \\leq \\min_{1\\leq j \\leq M} V_j \\hbox{ et } \\max_{1\\leq j \\leq M} V_j \\leq \\max_{1\\leq j \\leq M} U_j,$$\n",
    "\n",
    "*(Indication: pour la première inégalité, raisonner à partir de $j_0 = \\arg\\min_{j}V_j$)*\n",
    "\n",
    "En déduire que l'application linéaire $ (\\mathrm{Id}_M - \\frac{\\tau}{h^2} L_D)$ est inversible, puis que si l'on pose $\\Phi^{\\mathrm{imp}}: U\\in \\Rsp^M \\mapsto \\left(\\mathrm{Id}_M - \\frac{\\tau}{h^2}\\right)^{-1} (U + \\tau F),$ alors \n",
    "\n",
    "$$\\nr{\\Phi^{\\mathrm{imp}}(U) - \\Phi^{\\mathrm{imp}}(V)}_\\infty \\leq \\nr{U-V}_\\infty.$$ \n",
    "\n",
    "Le schéma $(DD,\\mathrm{impl})$ est  donc stable pour la norme infinie sans hypothèse sur $\\tau$ et $h$: on parle de *stabilité inconditionnelle*. On pourrait montrer qu'il est convergent, et que son erreur est du même ordre que pour le schéma implicite."
   ]
  },
  {
   "cell_type": "markdown",
   "metadata": {},
   "source": [
    "\n",
    "## 3. Cas de la conductivité variable\n",
    "\n",
    "On s'intéresse à une équation de diffusion sans second membre ($f=0$) mais avec une conductivité variable: \n",
    "\n",
    "$$\n",
    "(DA) \\quad \\left\\{\\begin{aligned}\n",
    "&\\frac{\\partial u}{\\partial t}(t,x) = \\frac{\\partial}{\\partial x}\\left(a(x) \\frac{\\partial u}{\\partial x}(t,x)\\right) + f(x)  \\hbox{ sur } ]0,1[\\times ]0,T]\\\\\n",
    "&u(t,0) = 0 \\hbox{ et } u(t,1) = 0 \\hbox{ pour } t\\in [0,T]\\\\\n",
    "&u(0,\\cdot) = u_0\n",
    "\\end{aligned}\\right. \n",
    "$$\n",
    "\n",
    "Comme auparavant, on considère une discrétisation $x_0 = 0,\\dots, x_{M+1}=1$ du segment $[0,1]$, mais pour la construction du schéma on utilisera  également les points situé au milieu des points de maille, $x_{i+\\frac12} := x_i + h/2$ où $h= 1/(M+1)$. Si $u$ est une fonction de classe $\\mathcal{C}^3$, alors \n",
    "\n",
    "$$ \\frac{\\partial u}{\\partial x} (x_{j+\\frac12}) = \\frac{1}{h} (u(x_{j+1}) - u(x_j)) + \\mathrm{O}(h^2).$$\n",
    "\n",
    "Ceci suggère la discrétisation suivante de l'opérateur de diffusion,\n",
    "\n",
    "$$\n",
    "\\begin{align*}\n",
    "\\left.\\frac{\\partial}{\\partial x}\\left(a(x) \\frac{\\partial u}{\\partial x}(t,x)\\right)\\right|_{t=t_n,x=x_j} \n",
    "&\\simeq \\frac{1}{h} \\left(a\\left(x_{j+\\frac12}\\right) \\frac{\\partial u}{\\partial x}(t_n,x_{j+\\frac12}) -  a\\left(x_{j-\\frac12}\\right)\\frac{\\partial u}{\\partial x}(t_n,x_{j+\\frac12})\\right) \\\\\n",
    "&\\simeq \\frac{1}{h} \\left(a\\left(x_{j+\\frac12}\\right) \\frac{u_{j+1}^n - u_j^{n}}{h} -  a\\left(x_{j-\\frac12}\\right) \\frac{u_{j}^n - u_{j-1}^{n}}{h}\\right)\n",
    "\\end{align*}$$\n",
    "\n",
    "Finalement, avec une discrétisation implicite en temps et en posant $a_{i+\\frac12} = a(x_{i+\\frac12})$, on obtient\n",
    " \n",
    "$$ \n",
    "(DA,{\\mathrm{imp}}) \\quad \\left\\{\n",
    "\\begin{aligned} \n",
    "&\\frac{1}{\\tau}(u_{j}^{n+1} - u_j^n) = \\frac{1}{h^2} \\left(a_{j-\\frac12} u_{j-1}^{n+1} + a_{j+\\frac12} u_{j+1}^{n+1} - (a_{j-\\frac12}+a_{j+\\frac12}) u_{j}^{n+1})\\right) &\\hbox{ pour } 0\\leq n < T \\hbox{ et } 1\\leq j\\leq M   \\\\\n",
    "&u_0^n = 0,~~ u_{M+1}^n = 1 & \\hbox{ pour } 0\\leq n \\leq T\\\\\n",
    "&u_0^j = u_0(x_j) &\\hbox{ pour } 0\\leq j \\leq M+1\n",
    "\\end{aligned}\n",
    "\\right. \n",
    "$$\n",
    "\n",
    "**Q10)** Écrire le schéma sous la forme $(\\mathrm{Id}_M - \\frac{\\tau}{h^2} L_A) U^{n+1} = U^n$, où $U^n = (u_1^n,\\dots,u_M^n)$ et où la matrice $L_A$ est à déterminer.\n",
    "\n",
    "**Q11)** Montrer que si $(\\mathrm{Id}_M - \\frac{\\tau}{h^2} L_A) V = U$, et si $a \\geq a_0 > 0$, alors  $\\nr{V}_\\infty\\leq \\nr{U}_\\infty$. En déduire l'inversibilité de $(\\mathrm{Id}_M - \\frac{\\tau}{h^2} L_A),$ et montrer que si l'on note \n",
    "$\\Phi^{\\mathrm{imp}}_A(U) = (\\mathrm{Id}_M - \\frac{\\tau}{h^2} L_A)^{-1} U$, alors \n",
    "$$ \\nr{\\Phi^{\\mathrm{imp}}_A(U) - \\Phi^{\\mathrm{imp}}_A(V)}_\\infty \\leq \\nr{U - V}_\\infty. $$\n",
    "\n",
    "\n",
    "**Q12)** Soit $u\\in\\mathcal{C}^4([0,1]\\times [0,T])$ une solution de l'équation (DA), où l'on a supposé $a \\in \\mathcal{C}^\\infty([0,1])$, et soit $\\bar{U}^n = (u(x_1),\\dots,u(x_M))$. Démontrer la consistance du schéma, et plus précisément que\n",
    "\n",
    "$$\\nr{\\frac{\\bar{U}^{n+1} - \\Phi^{\\mathrm{impl}}_A(\\bar{U}^n)}{\\tau}} \\leq C(\\tau + h)$$\n",
    "\n",
    "(On peut même améliorer la borne en $C(\\tau+h^2)$, en faisant un DL à l'ordre 4 en espace.)\n",
    "\n",
    "**Q13)**  Faire les calculs pour  $M=10$, $N=50$, $T=.2$, $u(0,\\cdot) = u_0$ et pour deux profils de conductivité $a_0$ et $a_1$ (voir ci-dessous). Comparer les deux distributions finales de température en $T=.2$ pour les deux profils de conductivité, interpréter.\n"
   ]
  },
  {
   "cell_type": "code",
   "execution_count": 5,
   "metadata": {},
   "outputs": [],
   "source": [
    "def a0(x): \n",
    "    return np.ones(len(x))\n",
    "def eta(x):\n",
    "    e = np.exp(-1.0/(1.0-x*x))\n",
    "    e[np.abs(x) > 1] = 0\n",
    "    return e/np.exp(-1.0)\n",
    "def a1(x): \n",
    "    return 1.0-0.95*eta((x-.25)*10.0)\n",
    "def H(x):\n",
    "    h = 0.01\n",
    "    return 1/(1+np.exp(-x/h))\n",
    "def u0(x): # approximation d'un créneau\n",
    "    return H(x-.4) - H(x-.7)\n",
    "\n",
    "M = 100\n",
    "N = 50\n",
    "T = .2\n",
    "h = 1.0/(M+1)\n",
    "tau = T/N\n",
    "\n",
    "xh = np.linspace(h/2, 1-h/2, M+1)\n",
    "x = np.linspace(0+h,1-h,M)\n",
    "ah0 = a0(xh)\n",
    "ah1 = a1(xh)\n",
    "\n",
    "# compléter"
   ]
  }
 ],
 "metadata": {
  "kernelspec": {
   "display_name": "Python 3",
   "language": "python",
   "name": "python3"
  },
  "language_info": {
   "codemirror_mode": {
    "name": "ipython",
    "version": 3
   },
   "file_extension": ".py",
   "mimetype": "text/x-python",
   "name": "python",
   "nbconvert_exporter": "python",
   "pygments_lexer": "ipython3",
   "version": "3.7.0"
  }
 },
 "nbformat": 4,
 "nbformat_minor": 1
}
